{
  "nbformat": 4,
  "nbformat_minor": 0,
  "metadata": {
    "colab": {
      "provenance": []
    },
    "kernelspec": {
      "name": "python3",
      "display_name": "Python 3"
    },
    "language_info": {
      "name": "python"
    }
  },
  "cells": [
    {
      "cell_type": "markdown",
      "source": [
        "# Advance HTML Form"
      ],
      "metadata": {
        "id": "OUDge_us20Nm"
      }
    },
    {
      "cell_type": "markdown",
      "source": [
        "***This HTML form collects user personal information, including name, email, password, gender, date of birth, and address. It features proper styling for input fields and submission buttons.***"
      ],
      "metadata": {
        "id": "RZIPYUPt3F9N"
      }
    },
    {
      "cell_type": "markdown",
      "source": [
        "\n",
        "\n",
        "```\n",
        "<!DOCTYPE html>\n",
        "<html lang=\"en\">\n",
        "\n",
        "<head>\n",
        "    <meta charset=\"UTF-8\">\n",
        "    <meta name=\"viewport\" content=\"width=device-width, initial-scale=1.0\">\n",
        "    <title>HTML Form</title>\n",
        "    <style>\n",
        "        body {\n",
        "            display: flex;\n",
        "            justify-content: center;\n",
        "            align-items: center;\n",
        "            height: 100vh;\n",
        "            margin: 0;\n",
        "            background-color: #f0f0f0;\n",
        "        }\n",
        "\n",
        "        form {\n",
        "            width: 400px;\n",
        "            background-color: #fff;\n",
        "            padding: 20px;\n",
        "            border-radius: 8px;\n",
        "            box-shadow: 0 0 10px rgba(0, 0, 0, 0.1);\n",
        "        }\n",
        "\n",
        "        fieldset {\n",
        "            border: 1px solid black;\n",
        "            padding: 10px;\n",
        "            margin: 0;\n",
        "        }\n",
        "\n",
        "        legend {\n",
        "            font-weight: bold;\n",
        "            margin-bottom: 10px;\n",
        "        }\n",
        "\n",
        "        label {\n",
        "            display: block;\n",
        "            margin-bottom: 5px;\n",
        "        }\n",
        "\n",
        "        input[type=\"text\"],\n",
        "        input[type=\"email\"],\n",
        "        input[type=\"password\"],\n",
        "        textarea,\n",
        "        input[type=\"date\"] {\n",
        "            width: calc(100% - 20px);\n",
        "            padding: 8px;\n",
        "            margin-bottom: 10px;\n",
        "            box-sizing: border-box;\n",
        "            border: 1px solid #ccc;\n",
        "            border-radius: 4px;\n",
        "        }\n",
        "\n",
        "        .gender-group {\n",
        "            margin-bottom: 10px;\n",
        "        }\n",
        "\n",
        "        .gender-group label {\n",
        "            display: inline-block;\n",
        "            margin-left: 10px;\n",
        "        }\n",
        "\n",
        "        input[type=\"radio\"] {\n",
        "            margin-left: 10px;\n",
        "            vertical-align: middle;\n",
        "        }\n",
        "\n",
        "        input[type=\"submit\"] {\n",
        "            padding: 10px 20px;\n",
        "            border-radius: 5px;\n",
        "            cursor: pointer;\n",
        "        }\n",
        "    </style>\n",
        "</head>\n",
        "\n",
        "<body>\n",
        "    <form>\n",
        "        <fieldset>\n",
        "            <legend>User Personal Information</legend>\n",
        "            <label for=\"name\">Enter your full name:</label>\n",
        "            <input type=\"text\" id=\"name\" name=\"name\" required />\n",
        "            <label for=\"email\">Enter your email:</label>\n",
        "            <input type=\"email\" id=\"email\" name=\"email\" required />\n",
        "            <label for=\"password\">Enter your password:</label>\n",
        "            <input type=\"password\" id=\"password\" name=\"pass\" required />\n",
        "            <label for=\"confirmPassword\">Confirm your password:</label>\n",
        "            <input type=\"password\" id=\"confirmPassword\" name=\"confirmPass\" required />\n",
        "            <label>Enter your gender:</label>\n",
        "            <div class=\"gender-group\">\n",
        "                <input type=\"radio\" name=\"gender\" value=\"male\" id=\"male\" required />\n",
        "                <label for=\"male\">Male</label>\n",
        "                <input type=\"radio\" name=\"gender\" value=\"female\" id=\"female\" />\n",
        "                <label for=\"female\">Female</label>\n",
        "                <input type=\"radio\" name=\"gender\" value=\"others\" id=\"others\" />\n",
        "                <label for=\"others\">Others</label>\n",
        "            </div>\n",
        "            <label for=\"dob\">Enter your Date of Birth:</label>\n",
        "            <input type=\"date\" id=\"dob\" name=\"dob\" required />\n",
        "            <label for=\"address\">Enter your Address:</label>\n",
        "            <textarea id=\"address\" name=\"address\" required></textarea>\n",
        "            <input type=\"submit\" value=\"Submit\" />\n",
        "        </fieldset>\n",
        "    </form>\n",
        "</body>\n",
        "\n",
        "</html>\n",
        "```\n",
        "\n"
      ],
      "metadata": {
        "id": "zlmqfdMy4Pm9"
      }
    }
  ]
}